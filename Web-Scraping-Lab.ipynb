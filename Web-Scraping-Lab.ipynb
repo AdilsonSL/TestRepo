{
 "cells": [
  {
   "cell_type": "markdown",
   "metadata": {},
   "source": [
    "<p style=\"text-align:center\">\n",
    "    <a href=\"https://skills.network/?utm_medium=Exinfluencer&utm_source=Exinfluencer&utm_content=000026UJ&utm_term=10006555&utm_id=NA-SkillsNetwork-Channel-SkillsNetworkCoursesIBMDA0321ENSkillsNetwork928-2022-01-01\" target=\"_blank\">\n",
    "    <img src=\"https://cf-courses-data.s3.us.cloud-object-storage.appdomain.cloud/assets/logos/SN_web_lightmode.png\" width=\"200\" alt=\"Skills Network Logo\"  />\n",
    "    </a>\n",
    "</p>\n"
   ]
  },
  {
   "cell_type": "markdown",
   "metadata": {},
   "source": [
    "# **Hands-on Lab : Web Scraping**\n"
   ]
  },
  {
   "cell_type": "markdown",
   "metadata": {},
   "source": [
    "Estimated time needed: **30 to 45** minutes\n"
   ]
  },
  {
   "cell_type": "markdown",
   "metadata": {},
   "source": [
    "## Objectives\n"
   ]
  },
  {
   "cell_type": "markdown",
   "metadata": {},
   "source": [
    "In this lab you will perform the following:\n"
   ]
  },
  {
   "cell_type": "markdown",
   "metadata": {},
   "source": [
    "* Extract information from a given web site \n",
    "* Write the scraped data into a csv file.\n"
   ]
  },
  {
   "cell_type": "markdown",
   "metadata": {},
   "source": [
    "## Extract information from the given web site\n",
    "You will extract the data from the below web site: <br> \n"
   ]
  },
  {
   "cell_type": "code",
   "execution_count": 1,
   "metadata": {
    "tags": []
   },
   "outputs": [],
   "source": [
    "#this url contains the data you need to scrape\n",
    "url = \"https://cf-courses-data.s3.us.cloud-object-storage.appdomain.cloud/IBM-DA0321EN-SkillsNetwork/labs/datasets/Programming_Languages.html\""
   ]
  },
  {
   "cell_type": "markdown",
   "metadata": {},
   "source": [
    "The data you need to scrape is the **name of the programming language** and **average annual salary**.<br> It is a good idea to open the url in your web broswer and study the contents of the web page before you start to scrape.\n"
   ]
  },
  {
   "cell_type": "markdown",
   "metadata": {},
   "source": [
    "Import the required libraries\n"
   ]
  },
  {
   "cell_type": "code",
   "execution_count": 2,
   "metadata": {
    "tags": []
   },
   "outputs": [
    {
     "name": "stdout",
     "output_type": "stream",
     "text": [
      "✓ Libraries imported successfully\n",
      "\n"
     ]
    }
   ],
   "source": [
    "from bs4 import BeautifulSoup\n",
    "import requests\n",
    "import pandas as pd\n",
    "\n",
    "print(\"✓ Libraries imported successfully\\n\")"
   ]
  },
  {
   "cell_type": "markdown",
   "metadata": {},
   "source": [
    "Download the webpage at the url\n"
   ]
  },
  {
   "cell_type": "code",
   "execution_count": 4,
   "metadata": {
    "tags": []
   },
   "outputs": [
    {
     "name": "stdout",
     "output_type": "stream",
     "text": [
      "✓ Webpage downloaded successfully (Status Code: 200)\n"
     ]
    }
   ],
   "source": [
    "response = requests.get(url)\n",
    "if response.status_code == 200:\n",
    "    print(f\"✓ Webpage downloaded successfully (Status Code: {response.status_code})\")\n",
    "    html_data = response.text\n",
    "else:\n",
    "    print(f\"✗ Failed to download webpage (Status Code: {response.status_code})\")\n",
    "    html_data = None"
   ]
  },
  {
   "cell_type": "markdown",
   "metadata": {},
   "source": [
    "Create a soup object\n"
   ]
  },
  {
   "cell_type": "code",
   "execution_count": 5,
   "metadata": {
    "tags": []
   },
   "outputs": [
    {
     "name": "stdout",
     "output_type": "stream",
     "text": [
      "✓ Soup object created successfully\n",
      "\n"
     ]
    }
   ],
   "source": [
    "soup = BeautifulSoup(html_data, 'html.parser')\n",
    "print(\"✓ Soup object created successfully\\n\")"
   ]
  },
  {
   "cell_type": "markdown",
   "metadata": {},
   "source": [
    "Scrape the `Language name` and `annual average salary`.\n"
   ]
  },
  {
   "cell_type": "code",
   "execution_count": 15,
   "metadata": {
    "tags": []
   },
   "outputs": [
    {
     "name": "stdout",
     "output_type": "stream",
     "text": [
      "=== Scraping Data ===\n",
      "\n",
      "Found 11 programming languages\n",
      "\n",
      "Language\n",
      "Python\n",
      "Java\n",
      "R\n",
      "Javascript\n",
      "Swift\n",
      "C++\n",
      "C#\n",
      "PHP\n",
      "SQL\n",
      "Go\n",
      "\n",
      "✓ Successfully scraped 11 languages\n",
      "\n",
      "=== Scraped Data DataFrame ===\n",
      "      Language  Average Annual Salary\n",
      "0     Language  Average Annual Salary\n",
      "1       Python               $114,383\n",
      "2         Java               $101,013\n",
      "3            R                $92,037\n",
      "4   Javascript               $110,981\n",
      "5        Swift               $130,801\n",
      "6          C++               $113,865\n",
      "7           C#                $88,726\n",
      "8          PHP                $84,727\n",
      "9          SQL                $84,793\n",
      "10          Go                $94,082\n",
      "\n"
     ]
    }
   ],
   "source": [
    "print(\"=== Scraping Data ===\\n\")\n",
    "\n",
    "# Find the table in the HTML\n",
    "table = soup.find('table')\n",
    "\n",
    "# Initialize lists to store the data\n",
    "languages = []\n",
    "salaries = []\n",
    "\n",
    "# Check if table was found\n",
    "if table:\n",
    "    # Find all rows in the table body (skip header)\n",
    "    rows = table.find('tbody').find_all('tr')\n",
    "    \n",
    "    print(f\"Found {len(rows)} programming languages\\n\")\n",
    "    \n",
    "    # Extract data from each row\n",
    "    for row in rows:\n",
    "        # Find all columns in the row\n",
    "        cols = row.find_all('td')\n",
    "        \n",
    "        if len(cols) >= 2:\n",
    "            # Extract language name (first column)\n",
    "            language = cols[1].get_text(strip=True)\n",
    "            \n",
    "            # Extract average annual salary (second column)\n",
    "            salary = cols[3].get_text(strip=True)\n",
    "            \n",
    "            # Append to lists\n",
    "            languages.append(language)\n",
    "            salaries.append(salary)\n",
    "            \n",
    "            print(f\"{language}\")\n",
    "    \n",
    "    print(f\"\\n✓ Successfully scraped {len(languages,)} languages\\n\")\n",
    "else:\n",
    "    print(\"✗ Table not found in the webpage\\n\")\n",
    "    \n",
    "     #Create a dictionary with the scraped data\n",
    "data = {\n",
    "    'Language': languages,\n",
    "    'Average Annual Salary': salaries\n",
    "}\n",
    "\n",
    "# Create DataFrame\n",
    "df = pd.DataFrame(data)\n",
    "\n",
    "print(\"=== Scraped Data DataFrame ===\")\n",
    "print(df)\n",
    "print()"
   ]
  },
  {
   "cell_type": "markdown",
   "metadata": {},
   "source": [
    "Save the scrapped data into a file named *popular-languages.csv*\n"
   ]
  },
  {
   "cell_type": "code",
   "execution_count": 16,
   "metadata": {
    "tags": []
   },
   "outputs": [
    {
     "name": "stdout",
     "output_type": "stream",
     "text": [
      "✓ Data saved to 'popular-languages.csv' successfully!\n",
      "\n",
      "==================================================\n",
      "SCRAPING COMPLETED SUCCESSFULLY!\n",
      "==================================================\n",
      "Total languages scraped: 11\n",
      "Output file: popular-languages.csv\n",
      "==================================================\n",
      "\n",
      "First 5 rows of the saved data:\n",
      "     Language  Average Annual Salary\n",
      "0    Language  Average Annual Salary\n",
      "1      Python               $114,383\n",
      "2        Java               $101,013\n",
      "3           R                $92,037\n",
      "4  Javascript               $110,981\n"
     ]
    }
   ],
   "source": [
    "# Save to CSV file\n",
    "filename = \"popular-languages.csv\"\n",
    "df.to_csv(filename, index=False)\n",
    "\n",
    "print(f\"✓ Data saved to '{filename}' successfully!\")\n",
    "\n",
    "# ==================================================\n",
    "# BONUS: Display summary statistics\n",
    "# ==================================================\n",
    "print(\"\\n\" + \"=\"*50)\n",
    "print(\"SCRAPING COMPLETED SUCCESSFULLY!\")\n",
    "print(\"=\"*50)\n",
    "print(f\"Total languages scraped: {len(df)}\")\n",
    "print(f\"Output file: {filename}\")\n",
    "print(\"=\"*50)\n",
    "\n",
    "# Optional: Display first few rows of the CSV\n",
    "print(\"\\nFirst 5 rows of the saved data:\")\n",
    "print(df.head())"
   ]
  },
  {
   "cell_type": "markdown",
   "metadata": {},
   "source": [
    "## Authors\n"
   ]
  },
  {
   "cell_type": "markdown",
   "metadata": {},
   "source": [
    "Ramesh Sannareddy\n"
   ]
  },
  {
   "cell_type": "markdown",
   "metadata": {},
   "source": [
    "### Other Contributors\n"
   ]
  },
  {
   "cell_type": "markdown",
   "metadata": {},
   "source": [
    "Rav Ahuja\n"
   ]
  },
  {
   "cell_type": "markdown",
   "metadata": {},
   "source": [
    "## Change Log\n"
   ]
  },
  {
   "cell_type": "markdown",
   "metadata": {},
   "source": [
    "|  Date (YYYY-MM-DD) |  Version | Changed By  |  Change Description |\n",
    "|---|---|---|---|\n",
    "| 2020-10-17  | 0.1  | Ramesh Sannareddy  |  Created initial version of the lab |\n"
   ]
  },
  {
   "cell_type": "markdown",
   "metadata": {},
   "source": [
    " Copyright &copy; 2020 IBM Corporation. This notebook and its source code are released under the terms of the [MIT License](https://cognitiveclass.ai/mit-license/?utm_medium=Exinfluencer&utm_source=Exinfluencer&utm_content=000026UJ&utm_term=10006555&utm_id=NA-SkillsNetwork-Channel-SkillsNetworkCoursesIBMDA0321ENSkillsNetwork928-2022-01-01).\n"
   ]
  }
 ],
 "metadata": {
  "kernelspec": {
   "display_name": "Python",
   "language": "python",
   "name": "conda-env-python-py"
  },
  "language_info": {
   "codemirror_mode": {
    "name": "ipython",
    "version": 3
   },
   "file_extension": ".py",
   "mimetype": "text/x-python",
   "name": "python",
   "nbconvert_exporter": "python",
   "pygments_lexer": "ipython3",
   "version": "3.7.12"
  }
 },
 "nbformat": 4,
 "nbformat_minor": 4
}
